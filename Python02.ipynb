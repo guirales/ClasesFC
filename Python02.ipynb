{
 "cells": [
  {
   "cell_type": "markdown",
   "metadata": {},
   "source": [
    "# Las operaciones con objetos\n",
    "## Las operaciones con números, cadenas y lista\n",
    "En python las operaciones con valores numéricos vienen dadas por los operadores binarios de: suma(+), resta(-), producto(\\*), división(/) y división entera (//) \n"
   ]
  },
  {
   "cell_type": "code",
   "execution_count": 2,
   "metadata": {},
   "outputs": [
    {
     "name": "stdout",
     "output_type": "stream",
     "text": [
      "1.5\n"
     ]
    }
   ],
   "source": [
    "print(3/2)\n"
   ]
  },
  {
   "cell_type": "code",
   "execution_count": 3,
   "metadata": {},
   "outputs": [
    {
     "name": "stdout",
     "output_type": "stream",
     "text": [
      "1\n"
     ]
    }
   ],
   "source": [
    "print(3//2)"
   ]
  },
  {
   "cell_type": "markdown",
   "metadata": {},
   "source": [
    "Otras operaciones son: módulo o resto(%), potencia (\\*\\*). El resultado de aplicar estos operadores a cantidades numéricas es trivial y siempre el resultado se muesta en el tipo de dato más general. Pero en el caso de las cadenas cambia el concepto:\n",
    "\n",
    "Suma"
   ]
  },
  {
   "cell_type": "code",
   "execution_count": 4,
   "metadata": {},
   "outputs": [
    {
     "name": "stdout",
     "output_type": "stream",
     "text": [
      "hola mundo\n"
     ]
    }
   ],
   "source": [
    "cad1=\"hola\"\n",
    "espacio=\" \"\n",
    "cad2='mundo'\n",
    "print(cad1+espacio+cad2)"
   ]
  },
  {
   "cell_type": "markdown",
   "metadata": {},
   "source": [
    "Producto por entero"
   ]
  },
  {
   "cell_type": "code",
   "execution_count": 5,
   "metadata": {},
   "outputs": [
    {
     "name": "stdout",
     "output_type": "stream",
     "text": [
      "mundomundo\n"
     ]
    }
   ],
   "source": [
    "print(2*cad2)"
   ]
  },
  {
   "cell_type": "markdown",
   "metadata": {},
   "source": [
    "Las demás operaciones no están definidas.\n",
    "En el caso de las listas ocurre algo parecido:"
   ]
  },
  {
   "cell_type": "code",
   "execution_count": 6,
   "metadata": {},
   "outputs": [
    {
     "name": "stdout",
     "output_type": "stream",
     "text": [
      "[1, 2, 3, '3', '4', '5']\n",
      "['3', '4', '5', '3', '4', '5']\n"
     ]
    }
   ],
   "source": [
    "lista1=[1,2,3]\n",
    "lista2=[\"3\",\"4\",\"5\"]\n",
    "print(lista1+lista2)\n",
    "print(2*lista2)"
   ]
  },
  {
   "cell_type": "markdown",
   "metadata": {},
   "source": [
    "Las demás operaciones no están definidas para las listas.\n",
    "## Métodos para listas\n",
    "Los métodos son funciones que hereda un tipo de dato por el sólo hecho de ser definidos de una manera. Algunos métodos básicos para cadenas y listas son:\n",
    "* lista.*append*(lista2): Este método agrega al final de la lista la lista2"
   ]
  },
  {
   "cell_type": "code",
   "execution_count": 7,
   "metadata": {},
   "outputs": [
    {
     "name": "stdout",
     "output_type": "stream",
     "text": [
      "[1, 2, 3, ['3', '4', '5']]\n"
     ]
    }
   ],
   "source": [
    "lista1.append(lista2)\n",
    "print(lista1)"
   ]
  },
  {
   "cell_type": "markdown",
   "metadata": {},
   "source": [
    "* lista.*pop*(indice): Este método elimina el elemento de la lista ubicado por indice, si no se pone indice se elimina el último"
   ]
  },
  {
   "cell_type": "code",
   "execution_count": 8,
   "metadata": {},
   "outputs": [
    {
     "name": "stdout",
     "output_type": "stream",
     "text": [
      "[1, 2, 3]\n"
     ]
    }
   ],
   "source": [
    "lista1.pop()\n",
    "print(lista1)"
   ]
  },
  {
   "cell_type": "code",
   "execution_count": 9,
   "metadata": {},
   "outputs": [
    {
     "name": "stdout",
     "output_type": "stream",
     "text": [
      "[1, 2, 3, 1, 2, 3, 1, 2, 3]\n",
      "[1, 2, 1, 2, 3, 1, 2, 3]\n"
     ]
    }
   ],
   "source": [
    "lista3=3*lista1\n",
    "print(lista3)\n",
    "lista3.pop(2)\n",
    "print(lista3)"
   ]
  },
  {
   "cell_type": "markdown",
   "metadata": {},
   "source": [
    "* lista.*insert*(i,X): Este método inserta en la lista el objeto X en el indice i"
   ]
  },
  {
   "cell_type": "code",
   "execution_count": 10,
   "metadata": {},
   "outputs": [
    {
     "name": "stdout",
     "output_type": "stream",
     "text": [
      "['a', 1, 2, 3]\n"
     ]
    }
   ],
   "source": [
    "lista1.insert(0,\"a\")\n",
    "print(lista1)"
   ]
  },
  {
   "cell_type": "markdown",
   "metadata": {},
   "source": [
    "* lista.*index*(X): Este método devuelve el primer índice en el aparece el objeto X "
   ]
  },
  {
   "cell_type": "code",
   "execution_count": 11,
   "metadata": {},
   "outputs": [
    {
     "name": "stdout",
     "output_type": "stream",
     "text": [
      "[1, 2, 1, 2, 3, 1, 2, 3]\n",
      "1\n"
     ]
    }
   ],
   "source": [
    "print(lista3)\n",
    "print(lista3.index(2))"
   ]
  },
  {
   "cell_type": "markdown",
   "metadata": {},
   "source": [
    "* lista.*count*(): este método devuelve el número de veces que aparece el objeto X en la lista"
   ]
  },
  {
   "cell_type": "code",
   "execution_count": 12,
   "metadata": {},
   "outputs": [
    {
     "data": {
      "text/plain": [
       "3"
      ]
     },
     "execution_count": 12,
     "metadata": {},
     "output_type": "execute_result"
    }
   ],
   "source": [
    "lista3.count(2)"
   ]
  },
  {
   "cell_type": "markdown",
   "metadata": {},
   "source": [
    "## Operaciones con arreglos\n",
    "Los arreglos permiten operaciones binarias (+,-,\\*) con otros arreglos o con otros números"
   ]
  },
  {
   "cell_type": "code",
   "execution_count": 13,
   "metadata": {},
   "outputs": [
    {
     "name": "stdout",
     "output_type": "stream",
     "text": [
      "suma:  [ 4.  6.  9.]\n",
      "resta:  [-2. -2. -3.]\n",
      "producto:  [  3.   8.  18.]\n",
      "división:  [ 0.33333333  0.5         0.5       ]\n",
      "potencia:  [ 1.  4.  9.]\n",
      "suma por un número: [ 3.  4.  5.]\n",
      "resta por un número: [-1.  0.  1.]\n",
      "producto por un número: [ 2.  4.  6.]\n",
      "división por un número: [ 0.5  1.   1.5]\n"
     ]
    }
   ],
   "source": [
    "from numpy import array\n",
    "arr1=array([1.0,2,3])\n",
    "arr2=array([3,4,6])\n",
    "print (\"suma: \", arr1+arr2)\n",
    "print (\"resta: \", arr1-arr2)\n",
    "print (\"producto: \", arr1*arr2)\n",
    "print (\"división: \", arr1/arr2)\n",
    "print (\"potencia: \", arr1**2)\n",
    "print (\"suma por un número:\", 2+arr1)\n",
    "print (\"resta por un número:\", arr1-2)\n",
    "print (\"producto por un número:\", 2*arr1)\n",
    "print (\"división por un número:\",arr1/2)"
   ]
  },
  {
   "cell_type": "markdown",
   "metadata": {},
   "source": [
    "Productos matriciales"
   ]
  },
  {
   "cell_type": "code",
   "execution_count": 15,
   "metadata": {},
   "outputs": [
    {
     "name": "stdout",
     "output_type": "stream",
     "text": [
      "29.0\n",
      "[ 0.  3. -2.]\n"
     ]
    }
   ],
   "source": [
    "from numpy import dot, cross, multiply\n",
    "print (dot(arr1,arr2))\n",
    "print (cross(arr1,arr2))"
   ]
  },
  {
   "cell_type": "code",
   "execution_count": 16,
   "metadata": {},
   "outputs": [
    {
     "name": "stdout",
     "output_type": "stream",
     "text": [
      "[[1 2]\n",
      " [3 4]]\n",
      "[[ 7 10]\n",
      " [15 22]]\n",
      "[[ 1  4]\n",
      " [ 9 16]]\n",
      "[[ 1  4]\n",
      " [ 9 16]]\n"
     ]
    }
   ],
   "source": [
    "m1=array([[1,2],[3,4]])\n",
    "m2=array([[9,5],[3,5]])\n",
    "print (m1)\n",
    "print (dot(m1,m1))\n",
    "print (multiply(m1,m1))\n",
    "print( m1**2)"
   ]
  },
  {
   "cell_type": "markdown",
   "metadata": {},
   "source": [
    "## Elementos básicos de algebra lineal\n",
    "Los vectores:"
   ]
  },
  {
   "cell_type": "code",
   "execution_count": 17,
   "metadata": {},
   "outputs": [
    {
     "name": "stdout",
     "output_type": "stream",
     "text": [
      "[[1 2]]\n",
      "[[1]\n",
      " [2]]\n"
     ]
    }
   ],
   "source": [
    "#vector fila\n",
    "V1=array([[1,2]])\n",
    "#vector culonna\n",
    "V2=array([[1],[2]])\n",
    "print (V1)\n",
    "print (V2)"
   ]
  },
  {
   "cell_type": "markdown",
   "metadata": {},
   "source": [
    "Tamaños y dimensiones"
   ]
  },
  {
   "cell_type": "code",
   "execution_count": 18,
   "metadata": {},
   "outputs": [
    {
     "name": "stdout",
     "output_type": "stream",
     "text": [
      "(1, 2)\n",
      "2\n"
     ]
    }
   ],
   "source": [
    "print (V1.shape)\n",
    "print (V1.size)"
   ]
  },
  {
   "cell_type": "markdown",
   "metadata": {},
   "source": [
    "La transposición matriz.T"
   ]
  },
  {
   "cell_type": "code",
   "execution_count": 19,
   "metadata": {},
   "outputs": [
    {
     "name": "stdout",
     "output_type": "stream",
     "text": [
      "[[1]\n",
      " [2]]\n"
     ]
    }
   ],
   "source": [
    "print (V1.T)"
   ]
  },
  {
   "cell_type": "markdown",
   "metadata": {},
   "source": [
    "producto interno o matricial matrizA.dot(matrizB)"
   ]
  },
  {
   "cell_type": "code",
   "execution_count": 30,
   "metadata": {},
   "outputs": [
    {
     "data": {
      "text/plain": [
       "array([[5]])"
      ]
     },
     "execution_count": 30,
     "metadata": {},
     "output_type": "execute_result"
    }
   ],
   "source": [
    "V1.dot(V2)"
   ]
  },
  {
   "cell_type": "markdown",
   "metadata": {},
   "source": [
    "probar los atributos imag, real; y  los métodos conj(), cumsum(eje), diagonal(), max(eje), min(eje),nonzero(), round(decimales), trace(), "
   ]
  },
  {
   "cell_type": "markdown",
   "metadata": {},
   "source": [
    "## Los bucles\n",
    "Los bucles o repeticiones son estructuras que permiten realizar tareas que son iterativas. Principalmente son las sentencias <font color=\"blue\">**for**</font> y la sentencia <font color=\"blue\">**while**</font>, Las estructuras son:\n",
    "\n",
    "\n",
    "\n",
    "<font color=\"blue\">**for**</font> n <font color=\"blue\">**in**</font> secuencia<font color=\"blue\">**:**</font>\n",
    "\n",
    "    Sentencias1\n",
    "    Sentencias2\n",
    "    \n",
    "n es el contador que itera, secuencia es una lista o arreglo de datos, Sentencias1 y Sentencias2 son las órdenes a iterar. \n",
    "\n",
    "<font color=\"blue\">**while**</font> Condición <font color=\"blue\">**:**</font>\n",
    "\n",
    "    Sentencias1\n",
    "    Sentencias2\n",
    "    \n",
    "La condición es una función o un valor que puede ser True o False"
   ]
  },
  {
   "cell_type": "code",
   "execution_count": 1,
   "metadata": {},
   "outputs": [
    {
     "name": "stdout",
     "output_type": "stream",
     "text": [
      "éste es el dato:  1\n",
      "éste es el dato:  2\n",
      "éste es el dato:  3\n",
      "éste es el dato:  4\n",
      "éste es el dato:  5\n"
     ]
    }
   ],
   "source": [
    "for i in [1,2,3,4,5]:\n",
    "    print (\"éste es el dato: \",i)"
   ]
  },
  {
   "cell_type": "code",
   "execution_count": null,
   "metadata": {},
   "outputs": [],
   "source": []
  },
  {
   "cell_type": "code",
   "execution_count": 2,
   "metadata": {},
   "outputs": [
    {
     "name": "stdout",
     "output_type": "stream",
     "text": [
      "éste es el dato 0\n",
      "éste es el dato 1\n",
      "éste es el dato 2\n",
      "éste es el dato 3\n",
      "éste es el dato 4\n",
      "éste es el dato 5\n"
     ]
    }
   ],
   "source": [
    "i=0\n",
    "while i<=5:\n",
    "    print (\"éste es el dato\",i)\n",
    "    i=i+1\n"
   ]
  },
  {
   "cell_type": "markdown",
   "metadata": {},
   "source": [
    "# Las funciones\n",
    "Una función es un fragmento de código con un nombre asociado que realiza una serie de tareas y devuelve un valor o ejecuta una acción, si no se especifica qué valor devuelve esta retorna None. La estructura de la función es:\n",
    "\n",
    "<font color=\"blue\">**def**</font> nombre_funcion(param1,param2)<font color=\"blue\">**:**</font>\n",
    "\n",
    "    Sentencias1\n",
    "    Sentencias2\n",
    "    return valor\n",
    "La palabra clave **return** se pone si se quiere que la funcion devuelva un valor si no no se pone.\n",
    "    "
   ]
  },
  {
   "cell_type": "code",
   "execution_count": 17,
   "metadata": {},
   "outputs": [],
   "source": [
    "def parabola(x0,xf,paso):\n",
    "    from numpy import array, arange\n",
    "    par=[]\n",
    "    for i in arange(x0,xf,paso):\n",
    "        par.append([i,i**2])\n",
    "    return array(par)\n",
    "    "
   ]
  },
  {
   "cell_type": "code",
   "execution_count": 5,
   "metadata": {},
   "outputs": [
    {
     "name": "stdout",
     "output_type": "stream",
     "text": [
      "[[-2  4]\n",
      " [-1  1]\n",
      " [ 0  0]\n",
      " [ 1  1]]\n"
     ]
    }
   ],
   "source": [
    "print (parabola(-2,2,1))"
   ]
  },
  {
   "cell_type": "markdown",
   "metadata": {},
   "source": [
    "## Formas de definir una función\n",
    "### Funciones con un número fijo de parámetros:\n",
    "En este tipo de funciones se definen exactamente los parámetros que recibe y que son necesaios para su funcionamiento.\n",
    "\n",
    "Por ejemplo, Calcule el área de  un trapecio de con base mayor B, base menor b y altura h. Usando\n",
    "$$A=\\frac{(B+b)h}{2}$$"
   ]
  },
  {
   "cell_type": "code",
   "execution_count": 6,
   "metadata": {},
   "outputs": [
    {
     "name": "stdout",
     "output_type": "stream",
     "text": [
      "Área de un trapecio  4.5\n"
     ]
    }
   ],
   "source": [
    "def Area(B,b,h):\n",
    "    return (B+b)*h/2\n",
    "\n",
    "B=2\n",
    "b=1\n",
    "h=3\n",
    "print(\"Área de un trapecio \",Area(B,b,h))"
   ]
  },
  {
   "cell_type": "markdown",
   "metadata": {},
   "source": [
    "### Funciones con número variable de parámetros:\n",
    "Cuando no se tiene certeza del número de parámetros que se ingresan a una función se puede usar el tipo especial \\*variable, de esta forma los parametros que se ingresan se convierten automáticamente a una tupla. Se deben ingresar los parámetros separados por comas (,) de otro moso se interpretaría  como una lista, teniendo efetos inesperados.\n",
    "\n",
    "Por ejemplo, Calcule el perímetro de cualquier polígono"
   ]
  },
  {
   "cell_type": "code",
   "execution_count": 10,
   "metadata": {},
   "outputs": [
    {
     "name": "stdout",
     "output_type": "stream",
     "text": [
      "6.2\n"
     ]
    }
   ],
   "source": [
    "def per(*lado):\n",
    "    perimetro=0\n",
    "    for i in lado:\n",
    "        perimetro+=i        \n",
    "    return perimetro\n",
    "\n",
    "print(per(1.2,2,3))"
   ]
  },
  {
   "cell_type": "markdown",
   "metadata": {},
   "source": [
    "### Funciones con parámetros con valores por defecto:\n",
    "En ocasiones las funciones se aplican con argumentos que de entrada pueden tomar un valor particular y que en casos especiales estos cambien o viceversa. En estas situaciones al argumento se le puede asignar un valor con el operador (=).\n",
    "\n",
    "Por ejemplo,calcule la longitud de uno de los lados de un triángulo, el cual por defecto es un triángulo rectángulo usando la ley de cosenos\n",
    "$$c^2=a^2+b^2−2ab\\cos(\\gamma)$$"
   ]
  },
  {
   "cell_type": "code",
   "execution_count": 12,
   "metadata": {},
   "outputs": [
    {
     "name": "stdout",
     "output_type": "stream",
     "text": [
      "triángulo sisóceles rectángulo 1.41421356237\n",
      "triángulo sisóceles acutangulo 0.517638090205\n",
      "triángulo sisóceles obtusángulo 1.53208888624\n"
     ]
    }
   ],
   "source": [
    "def TL(a,b,gammaS=90):\n",
    "    from numpy import pi, cos,sqrt\n",
    "    gammaR=pi*gammaS/180\n",
    "    return sqrt(a**2+b**2-2*a*b*cos(gammaR))\n",
    "print(\"triángulo sisóceles rectángulo\", TL(1,1))\n",
    "print(\"triángulo sisóceles acutangulo\", TL(1,1,30))\n",
    "print(\"triángulo sisóceles obtusángulo\", TL(1,1,gammaS=100))"
   ]
  },
  {
   "cell_type": "markdown",
   "metadata": {},
   "source": [
    "### Función con todos los parámetros con valores por defecto:\n",
    "Una función también podría contener todos sus argumentos por defecto, en tal caso cada argumento se define con el operador (=).\n",
    "\n",
    "Por ejemplo, calcule el área de un paralelogramo cuyo valor por defecto sea el cuadrado de lado 2.\n"
   ]
  },
  {
   "cell_type": "code",
   "execution_count": 14,
   "metadata": {},
   "outputs": [
    {
     "name": "stdout",
     "output_type": "stream",
     "text": [
      "Area por defecto 4\n",
      "Area con base por defecto 6\n",
      "Area con altura por defecto 4\n",
      "Area paralelogramo 3\n"
     ]
    }
   ],
   "source": [
    "def A2(b=2,h=2):\n",
    "    return b*h\n",
    "print(\"Area por defecto\",A2())\n",
    "print(\"Area con base por defecto\",A2(h=3))\n",
    "print(\"Area con altura por defecto\",A2(2))\n",
    "print(\"Area paralelogramo\",A2(b=1,h=3))"
   ]
  },
  {
   "cell_type": "markdown",
   "metadata": {},
   "source": [
    "### Funciones que devuelven más de un valor:\n",
    "En ocasiones se requiere que la función devuelva varios resultados de su proceso, en este caso el return admite que se devuelva una tupla, tambien se podría devolver un objeto lista o arreglo con los datos.\n",
    "\n",
    "Por ejemplo, determine el número atómico y denominación de los 5 primeros elementos de la tabla periódica dado el símbolo químico"
   ]
  },
  {
   "cell_type": "code",
   "execution_count": 18,
   "metadata": {},
   "outputs": [
    {
     "name": "stdout",
     "output_type": "stream",
     "text": [
      "nombre:  litio  ,número atómico: 3\n",
      "nombre:  no tengo el elemento o verifique mayúsculas  ,número atómico: 0\n"
     ]
    }
   ],
   "source": [
    "def quim(simb):\n",
    "    if simb==\"H\":\n",
    "        nombre=\"hidrógeno\"\n",
    "        num=1\n",
    "    elif simb==\"He\":\n",
    "        nombre=\"helio\"\n",
    "        num=2\n",
    "    elif simb==\"Li\":\n",
    "        nombre=\"litio\"\n",
    "        num=3\n",
    "    elif simb==\"Be\":\n",
    "        nombre=\"berilio\"\n",
    "        num=4\n",
    "    elif simb==\"B\":\n",
    "        nombre=\"boro\"\n",
    "        num=5\n",
    "    else:\n",
    "        nombre=\"no tengo el elemento o verifique mayúsculas\"\n",
    "        num=0\n",
    "    return nombre,num\n",
    "\n",
    "n,na=quim(\"Li\")\n",
    "print(\"nombre: \",n,\" ,número atómico:\",na)\n",
    "n,na=quim(\"li\")\n",
    "print(\"nombre: \",n,\" ,número atómico:\",na)"
   ]
  },
  {
   "cell_type": "markdown",
   "metadata": {},
   "source": [
    "# Un poco de color a la vida\n",
    "Aunque el proceso de graficación puede ser una tarea muy elaborada en python; existen modulos que facilitan la tarea al menos a nivel básico. Este es el caso del módulo **pylab**.\n",
    "**pylab** contiene una serie de definiciones interesantes a la hora de realizar una exploración global de los datos y la forma de gráficar resulta tan sencillo como escribir:"
   ]
  },
  {
   "cell_type": "markdown",
   "metadata": {
    "collapsed": true
   },
   "source": [
    "# API tipo MATLAB\n",
    "\n",
    "Una forma sencilla para comenzar a graficar usando Matplotlib es usando la API tipo MATLAB que Matplotlib suministra, a través del módulo 'matplotlib.pyplot'.\n",
    "\n",
    "Esta API está diseñada para que sea compatible con las funciones para graficar de MATLAB, de modo que resulta fácil para aquellos acostumbrados a usar MATLAB.\n",
    "\n",
    "Importamos entonces el módulo `pyplot`: "
   ]
  },
  {
   "cell_type": "code",
   "execution_count": 12,
   "metadata": {},
   "outputs": [
    {
     "data": {
      "text/plain": [
       "<matplotlib.text.Text at 0x7fd1d7402b00>"
      ]
     },
     "execution_count": 12,
     "metadata": {},
     "output_type": "execute_result"
    },
    {
     "data": {
      "image/png": "[encoded data removed]",
      "text/plain": [
       "<matplotlib.figure.Figure at 0x7fd1d7360d68>"
      ]
     },
     "metadata": {},
     "output_type": "display_data"
    }
   ],
   "source": [
    "%matplotlib inline\n",
    "import pylab as pl\n",
    "\n",
    "x=[1,2,3,4]\n",
    "y=[1,4,9,16]\n",
    "pl.plot(x,y)\n",
    "xlabel(\"a\")\n",
    "ylabel(\"$x^2$\")"
   ]
  },
  {
   "cell_type": "code",
   "execution_count": 13,
   "metadata": {},
   "outputs": [
    {
     "data": {
      "image/png": "[encoded data removed]",
      "text/plain": [
       "<matplotlib.figure.Figure at 0x7fd1d7436240>"
      ]
     },
     "metadata": {},
     "output_type": "display_data"
    }
   ],
   "source": [
    "pl.plot(x,y,'r')\n",
    "pl.xlabel('x')\n",
    "pl.ylabel('y')\n",
    "pl.title(u'Título') # el caracter `u` es necesario para incluir acentos en el texto\n",
    "pl.show() # muestra el gráfico en una ventana, si no se ha usado %matplotlib inline"
   ]
  },
  {
   "cell_type": "code",
   "execution_count": 14,
   "metadata": {},
   "outputs": [
    {
     "data": {
      "image/png": "[encoded data removed]",
      "text/plain": [
       "<matplotlib.figure.Figure at 0x7fd1d73dc080>"
      ]
     },
     "metadata": {},
     "output_type": "display_data"
    }
   ],
   "source": [
    "pl.subplot(1,2,1)\n",
    "pl.plot(x, y, 'r--')\n",
    "pl.subplot(1,2,2)\n",
    "pl.plot(y, x, 'g*-');"
   ]
  },
  {
   "cell_type": "markdown",
   "metadata": {},
   "source": [
    "Lo positivo de la API tipo MATLAB Pyplot (pylab) es que es fácil comenzar si ya se sabe usar MATLAB, y que requiere un mínimo de código para producir gráficos simples. \n",
    "\n",
    "Sin embargo, esta API no es la más adecuada cuando se requiere producir gráficos complejos y/o se requiere controlar cada aspecto del gráfico. En este caso, es recomendable aprender y usar la API gráfica orientada al objeto de Matplotlib. Es muy poderosa y agradable de usar en caso de requerir figuras avanzadas, con sub-gráficos, objetos insertados y otros componentes."
   ]
  },
  {
   "cell_type": "code",
   "execution_count": 18,
   "metadata": {},
   "outputs": [
    {
     "data": {
      "text/plain": [
       "<matplotlib.text.Text at 0x7fd1d71c8940>"
      ]
     },
     "execution_count": 18,
     "metadata": {},
     "output_type": "execute_result"
    },
    {
     "data": {
      "image/png": "[encoded data removed]",
      "text/plain": [
       "<matplotlib.figure.Figure at 0x7fd1d75d1668>"
      ]
     },
     "metadata": {},
     "output_type": "display_data"
    }
   ],
   "source": [
    "mp=parabola(-10,10,0.5)\n",
    "pl.plot(mp[:,0],mp[:,1])\n",
    "pl.xlabel(\"$x$\")\n",
    "pl.ylabel(\"$x^2$\")"
   ]
  },
  {
   "cell_type": "markdown",
   "metadata": {},
   "source": [
    "# Listas iteradas\n",
    "Cuando se necesita generar una lista o arreglo, en la que los índices varian de acuerdo a una regla de iteración se puede usar la siguiente regla para generarla:\n",
    "## lista 1D\n",
    "[regla_de_iteración iterador filtro]\n",
    "## lista 2D\n",
    "[[lista_iterada] iterador filtro]\n"
   ]
  },
  {
   "cell_type": "code",
   "execution_count": 20,
   "metadata": {},
   "outputs": [
    {
     "data": {
      "text/plain": [
       "[0, 1, 2, 3, 4]"
      ]
     },
     "execution_count": 20,
     "metadata": {},
     "output_type": "execute_result"
    }
   ],
   "source": [
    "[i for i in range(5)]"
   ]
  },
  {
   "cell_type": "code",
   "execution_count": 21,
   "metadata": {},
   "outputs": [
    {
     "data": {
      "text/plain": [
       "[[0, 2, 4, 6, 8], [2, 4, 6, 8, 10], [4, 6, 8, 10, 12]]"
      ]
     },
     "execution_count": 21,
     "metadata": {},
     "output_type": "execute_result"
    }
   ],
   "source": [
    "[[2*(i+j) for i in range(5)] for j in range(3)]"
   ]
  },
  {
   "cell_type": "markdown",
   "metadata": {},
   "source": [
    "Entonces nuestra parábola se resume a:"
   ]
  },
  {
   "cell_type": "code",
   "execution_count": 19,
   "metadata": {},
   "outputs": [
    {
     "data": {
      "text/plain": [
       "[<matplotlib.lines.Line2D at 0x7fd1d712f160>]"
      ]
     },
     "execution_count": 19,
     "metadata": {},
     "output_type": "execute_result"
    },
    {
     "data": {
      "image/png": "[encoded data removed]",
      "text/plain": [
       "<matplotlib.figure.Figure at 0x7fd1d7613ba8>"
      ]
     },
     "metadata": {},
     "output_type": "display_data"
    }
   ],
   "source": [
    "from numpy import array, arange\n",
    "x0=0\n",
    "xf=5\n",
    "paso=0.5\n",
    "MP2=array([[i,i**2] for i in arange(x0,xf,paso)])\n",
    "pl.plot(MP2[:,0],MP2[:,1])"
   ]
  },
  {
   "cell_type": "markdown",
   "metadata": {},
   "source": [
    "## Directorio de trabajo\n",
    "Python pone de forma automática los archivos que se guerden en un espacio llamado directorio de trabajo, para saber el directorio de trabajo se debe importar el módulo **os**"
   ]
  },
  {
   "cell_type": "code",
   "execution_count": 21,
   "metadata": {},
   "outputs": [
    {
     "name": "stdout",
     "output_type": "stream",
     "text": [
      "posix.uname_result(sysname='Linux', nodename='BAKENEKO', release='4.10.0-38-generic', version='#42-Ubuntu SMP Tue Oct 10 13:24:27 UTC 2017', machine='x86_64')\n",
      "/home/memo/Dropbox/UdeA/Clases\n"
     ]
    }
   ],
   "source": [
    "import os\n",
    "print (os.uname())\n",
    "print (os.getcwd())"
   ]
  },
  {
   "cell_type": "code",
   "execution_count": 22,
   "metadata": {},
   "outputs": [
    {
     "name": "stdout",
     "output_type": "stream",
     "text": [
      "['prueba.txt', 'tabla.dat', 'Python03.ipynb', 'Python04.ipynb', 'Python02-Copy1.ipynb', '.ipynb_checkpoints', 'guardarYabrir.txt', 'mi_modulo.py', 'Untitled0.ipynb', 'archivo3.txt', 'img', 'prueba.ipynb', 'Working With Markdown Cells.ipynb', 'archivo.txt', 'archivo2.txt', 'Python02.ipynb', 'xy.npy', 'stinkbug.png', 'mi_modulo.pyc', 'Python01.ipynb', 'Parcial04.ipynb', 'prueba2.txt', 'archivoa.txt', 'Python05_Matplotlib.ipynb', 'Python01-Copy1.ipynb', 'prueba3.py', 'Parcial02.ipynb', 'grafica.png']\n"
     ]
    }
   ],
   "source": [
    "print (os.listdir(os.getcwd()))"
   ]
  },
  {
   "cell_type": "markdown",
   "metadata": {},
   "source": [
    "os.mkdir(\"ruta\")  crea un directorio en la ruta especificada, siempre que se tengan los permisos de escritura\n",
    "\n",
    "os.rename(ruta1,ruta2) renombra archivos o directorios en la ruta 1 con la ruta 2\n",
    "\n",
    "os.rmdir(ruta) borra un directorio en la ruta\n",
    "\n",
    "os.remove(ruta) borra un archivo en la ruta\n",
    "\n",
    "Una forma muy sencilla de aprovechar las facilidades del sistema operativo es a través de la función **system**, a la cual se le ingresa los parámetros a manera de cadena de texto; la desventaja es que es muy dependiente del sistema operativo. Si el comando se ejecuta la función devuelve 0."
   ]
  },
  {
   "cell_type": "code",
   "execution_count": 23,
   "metadata": {},
   "outputs": [
    {
     "data": {
      "text/plain": [
       "0"
      ]
     },
     "execution_count": 23,
     "metadata": {},
     "output_type": "execute_result"
    }
   ],
   "source": [
    "os.system(\"cp archivo2.txt archivo3.txt\")"
   ]
  },
  {
   "cell_type": "code",
   "execution_count": null,
   "metadata": {
    "collapsed": true
   },
   "outputs": [],
   "source": []
  }
 ],
 "metadata": {
  "kernelspec": {
   "display_name": "Python 3",
   "language": "python",
   "name": "python3"
  },
  "language_info": {
   "codemirror_mode": {
    "name": "ipython",
    "version": 3
   },
   "file_extension": ".py",
   "mimetype": "text/x-python",
   "name": "python",
   "nbconvert_exporter": "python",
   "pygments_lexer": "ipython3",
   "version": "3.6.5"
  }
 },
 "nbformat": 4,
 "nbformat_minor": 1
}
